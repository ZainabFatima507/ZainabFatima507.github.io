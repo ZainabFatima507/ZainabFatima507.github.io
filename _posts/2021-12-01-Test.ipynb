{
 "cells": [
  {
   "cell_type": "markdown",
   "id": "respiratory-childhood",
   "metadata": {},
   "source": [
    "# Housing Data"
   ]
  },
  {
   "cell_type": "markdown",
   "id": "portuguese-creativity",
   "metadata": {},
   "source": [
    "In this Exploratory Data Anaysis paper, we are going to do Exploratory data analysis of a housing dataset of California Housing Prices which you can access  [here](https://www.kaggle.com/camnugent/california-housing-prices?select=housing.csv \"Title\")."
   ]
  },
  {
   "cell_type": "markdown",
   "id": "continental-syntax",
   "metadata": {},
   "source": [
    ">We have some features of the data set as follows:\n",
    "> * longitude:\n",
    "     * The longitude measure of the house, a higher value is farther west.\n",
    "> * latitude:\n",
    "     * The latitude measure of the house, a higher value is farther north.\n",
    "> * housing_median_age:\n",
    "     * Median age of a house within a block; a lower number is a newer building\n",
    "> * total_rooms:\n",
    "     * Total number of rooms within a block.\n",
    "> * total_bedrooms:\n",
    "     * Total number of bedrooms within a block.\n",
    "> * population:\n",
    "     * Total number of people residing within a block\n",
    "> * households:\n",
    "     * Total number of households, a group of people residing within a home unit, for a block\n",
    "> * median_income:\n",
    "     *  Median income for households within a block of houses (measured in tens of thousands of US Dollars).\n",
    "> * median_house_value:\n",
    "     *  Median house value for households within a block (measured in US Dollars)\n",
    "> * ocean_proximity:\n",
    "     * Location of the house w.r.t ocean/sea."
   ]
  },
  {
   "cell_type": "markdown",
   "id": "judicial-pregnancy",
   "metadata": {},
   "source": [
    "Since we know all the parameters and there meanings, we need to know our data we need to understand whether they all come under same scale or we need to change the scale in order to get some useful insights.\n",
    "\n",
    "To know the type of all the parameters, we can use a function `ds.dtypes()` but before that we need to import useful libraries like `pandas` , `numpy` and upload the data set in our notebook. \n",
    "\n",
    "We will be importing the libraries along the way as we require."
   ]
  },
